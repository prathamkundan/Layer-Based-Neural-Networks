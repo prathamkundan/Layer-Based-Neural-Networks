{
 "cells": [
  {
   "cell_type": "code",
   "execution_count": 2,
   "metadata": {},
   "outputs": [],
   "source": [
    "import numpy as np\n",
    "s = 20\n",
    "X_train = []\n",
    "for i in range(1,6):\n",
    "    for j in range(1,6):\n",
    "        X_train.append([i,j])\n",
    "\n",
    "X_train = np.array(X_train)\n",
    "y_train = np.array([[i*i, j*j] for i,j in X_train])"
   ]
  },
  {
   "cell_type": "code",
   "execution_count": 3,
   "metadata": {},
   "outputs": [
    {
     "data": {
      "text/plain": [
       "(5, 2, 1)"
      ]
     },
     "execution_count": 3,
     "metadata": {},
     "output_type": "execute_result"
    }
   ],
   "source": [
    "X_train = np.reshape(X_train, (X_train.shape[0],X_train.shape[1],1))\n",
    "y_train = np.reshape(y_train, (y_train.shape[0],y_train.shape[1],1))\n",
    "y_train[s:].shape"
   ]
  },
  {
   "cell_type": "code",
   "execution_count": 4,
   "metadata": {},
   "outputs": [
    {
     "data": {
      "text/plain": [
       "array([[ 0.71524838, -1.31803376],\n",
       "       [-0.03997422,  0.87079455]])"
      ]
     },
     "execution_count": 4,
     "metadata": {},
     "output_type": "execute_result"
    }
   ],
   "source": [
    "W = np.random.randn(2,2)\n",
    "W"
   ]
  },
  {
   "cell_type": "code",
   "execution_count": 5,
   "metadata": {},
   "outputs": [
    {
     "name": "stdout",
     "output_type": "stream",
     "text": [
      "(5, 2, 1)\n",
      "[[[ 2.25820812]\n",
      "  [ 0.94017436]\n",
      "  [-0.3778594 ]\n",
      "  [-1.69589317]\n",
      "  [-3.01392693]]\n",
      "\n",
      " [[ 0.67092346]\n",
      "  [ 1.54171801]\n",
      "  [ 2.41251257]\n",
      "  [ 3.28330712]\n",
      "  [ 4.15410168]]]\n"
     ]
    }
   ],
   "source": [
    "\n",
    "print(X_train[s:].shape)\n",
    "X_in = np.dot(W,X_train[s:])\n",
    "print(X_in)"
   ]
  },
  {
   "cell_type": "code",
   "execution_count": 6,
   "metadata": {},
   "outputs": [],
   "source": [
    "from Layers import Layer\n",
    "L1 = Layer(2,2)\n",
    "# np.dot(L1.W, X_train[s:])\n",
    "X_in = L1._forward(X_in = X_train[s:])\n",
    "# np.rehape(ans1, y_train[s:].shape) "
   ]
  },
  {
   "cell_type": "code",
   "execution_count": 7,
   "metadata": {},
   "outputs": [
    {
     "data": {
      "text/plain": [
       "(5, 2, 1)"
      ]
     },
     "execution_count": 7,
     "metadata": {},
     "output_type": "execute_result"
    }
   ],
   "source": [
    "X_in.shape"
   ]
  },
  {
   "cell_type": "code",
   "execution_count": 8,
   "metadata": {},
   "outputs": [
    {
     "name": "stdout",
     "output_type": "stream",
     "text": [
      "[[[0.91501828]\n",
      "  [0.99634429]]\n",
      "\n",
      " [[0.85482612]\n",
      "  [0.99334957]]\n",
      "\n",
      " [[0.76304087]\n",
      "  [0.98793134]]\n",
      "\n",
      " [[0.63781241]\n",
      "  [0.97819568]]\n",
      "\n",
      " [[0.49058611]\n",
      "  [0.96091703]]]\n"
     ]
    }
   ],
   "source": [
    "from Layers import Activation\n",
    "# X_in = np.reshape(X_in,y_train[s:].shape)\n",
    "L = Activation('sigmoid')\n",
    "ans = L._forward(X_in)\n",
    "print(ans)"
   ]
  },
  {
   "cell_type": "code",
   "execution_count": 9,
   "metadata": {},
   "outputs": [
    {
     "name": "stdout",
     "output_type": "stream",
     "text": [
      "[[-1.59748566]\n",
      " [ 0.39772612]]\n",
      "[[[ 2.37650786]\n",
      "  [ 5.60780182]]\n",
      "\n",
      " [[ 1.77296589]\n",
      "  [ 5.00640168]]\n",
      "\n",
      " [[ 1.16942392]\n",
      "  [ 4.40500155]]\n",
      "\n",
      " [[ 0.56588194]\n",
      "  [ 3.80360141]]\n",
      "\n",
      " [[-0.03766003]\n",
      "  [ 3.20220127]]]\n"
     ]
    }
   ],
   "source": [
    "k = np.array([L1.W.dot(i) for i in X_train[s:]])\n",
    "# print(k)\n",
    "print(L1.B)\n",
    "print(k+L1.B)"
   ]
  },
  {
   "cell_type": "code",
   "execution_count": 10,
   "metadata": {},
   "outputs": [
    {
     "name": "stdout",
     "output_type": "stream",
     "text": [
      "(5, 2, 1)\n",
      "[[[-2.40849817e+01]\n",
      "  [-3.65571263e-03]]\n",
      "\n",
      " [[-2.41451739e+01]\n",
      "  [-3.00665043e+00]]\n",
      "\n",
      " [[-2.42369591e+01]\n",
      "  [-8.01206866e+00]]\n",
      "\n",
      " [[-2.43621876e+01]\n",
      "  [-1.50218043e+01]]\n",
      "\n",
      " [[-2.45094139e+01]\n",
      "  [-2.40390830e+01]]]\n"
     ]
    }
   ],
   "source": [
    "print(y_train[s:].shape)\n",
    "# ans = np.reshape(ans,y_train[s:].shape)\n",
    "print(ans-y_train[s:])"
   ]
  },
  {
   "cell_type": "code",
   "execution_count": 11,
   "metadata": {},
   "outputs": [
    {
     "name": "stdout",
     "output_type": "stream",
     "text": [
      "[[[-4.81699634e+00]\n",
      "  [-7.31142527e-04]]\n",
      "\n",
      " [[-4.82903478e+00]\n",
      "  [-6.01330085e-01]]\n",
      "\n",
      " [[-4.84739183e+00]\n",
      "  [-1.60241373e+00]]\n",
      "\n",
      " [[-4.87243752e+00]\n",
      "  [-3.00436086e+00]]\n",
      "\n",
      " [[-4.90188278e+00]\n",
      "  [-4.80781659e+00]]]\n"
     ]
    }
   ],
   "source": [
    "from Errors import *\n",
    "er = mse_prime(ans,y_train[s:])\n",
    "print(er)"
   ]
  },
  {
   "cell_type": "code",
   "execution_count": 12,
   "metadata": {},
   "outputs": [],
   "source": [
    "b_o = L._backward(er)"
   ]
  },
  {
   "cell_type": "code",
   "execution_count": 13,
   "metadata": {},
   "outputs": [
    {
     "data": {
      "text/plain": [
       "array([[[ -4.41084415],\n",
       "        [  2.90769919]],\n",
       "\n",
       "       [[ -5.11993867],\n",
       "        [  3.27616517]],\n",
       "\n",
       "       [[ -6.30029936],\n",
       "        [  3.88929626]],\n",
       "\n",
       "       [[ -7.95270525],\n",
       "        [  4.74754358]],\n",
       "\n",
       "       [[-10.07581047],\n",
       "        [  5.84991356]]])"
      ]
     },
     "execution_count": 13,
     "metadata": {},
     "output_type": "execute_result"
    }
   ],
   "source": [
    "t = L1._backward(er)\n",
    "t\n",
    "# t.sum(axis = 0)"
   ]
  },
  {
   "cell_type": "code",
   "execution_count": 14,
   "metadata": {},
   "outputs": [
    {
     "data": {
      "text/plain": [
       "array([[-24.26774324],\n",
       "       [-10.01665242]])"
      ]
     },
     "execution_count": 14,
     "metadata": {},
     "output_type": "execute_result"
    }
   ],
   "source": [
    "er.sum(axis = 0)"
   ]
  },
  {
   "cell_type": "code",
   "execution_count": 25,
   "metadata": {},
   "outputs": [
    {
     "name": "stdout",
     "output_type": "stream",
     "text": [
      "[[6 2 1 5]]\n",
      "[[5 7 6 2]\n",
      " [0 6 2 5]\n",
      " [5 6 1 3]]\n"
     ]
    }
   ],
   "source": [
    "b = np.random.randint(0,10,(1,4))\n",
    "c = np.random.randint(0,10,(3,4))\n",
    "print(b)\n",
    "print(c)"
   ]
  },
  {
   "cell_type": "code",
   "execution_count": 26,
   "metadata": {},
   "outputs": [
    {
     "data": {
      "text/plain": [
       "array([[11,  9,  7,  7],\n",
       "       [ 6,  8,  3, 10],\n",
       "       [11,  8,  2,  8]])"
      ]
     },
     "execution_count": 26,
     "metadata": {},
     "output_type": "execute_result"
    }
   ],
   "source": [
    "c+b"
   ]
  },
  {
   "cell_type": "code",
   "execution_count": 28,
   "metadata": {},
   "outputs": [
    {
     "data": {
      "text/plain": [
       "array([[ -4, -17,  -8,  -5]])"
      ]
     },
     "execution_count": 28,
     "metadata": {},
     "output_type": "execute_result"
    }
   ],
   "source": [
    "b - c.sum(axis = 0)"
   ]
  },
  {
   "cell_type": "code",
   "execution_count": 1,
   "metadata": {},
   "outputs": [],
   "source": [
    "import numpy as np\n",
    "y = np.random.randn(4,3,3)\n",
    "d = np.random.randn(4,3,3)\n",
    "z = np.random.randint(10,20,(4,2,2))\n",
    "# print(y)\n",
    "# print(z)"
   ]
  },
  {
   "cell_type": "code",
   "execution_count": 2,
   "metadata": {},
   "outputs": [
    {
     "name": "stdout",
     "output_type": "stream",
     "text": [
      "[[1015 1034]\n",
      " [1172 1275]]\n"
     ]
    }
   ],
   "source": [
    "from scipy import signal\n",
    "ans = np.zeros_like(z[0])\n",
    "for a,b in zip(y,z):\n",
    "    ans+=signal.correlate2d(a,b, mode = 'valid')\n",
    "print(ans)\n",
    "\n",
    "from Layers import Convolutional\n",
    "\n",
    "L = Convolutional(y.shape, (2,2),1)\n",
    "k = L._forward(y)\n",
    "c = L._backward(k)"
   ]
  },
  {
   "cell_type": "code",
   "execution_count": 3,
   "metadata": {},
   "outputs": [
    {
     "name": "stdout",
     "output_type": "stream",
     "text": [
      "[[[ 1.13437354e+00  9.76362482e+00  7.09034738e+00]\n",
      "  [ 3.25921943e+01  4.18503118e+01  7.45049189e+00]\n",
      "  [ 3.58458968e+01  1.56395711e+01  1.69748660e+00]]\n",
      "\n",
      " [[ 1.94278064e+00  1.44333757e+01 -5.71976657e+00]\n",
      "  [ 5.39942457e+01 -6.35090232e+00 -5.18001689e+00]\n",
      "  [ 1.10565086e+01 -1.57413938e+00 -7.74218778e-01]]\n",
      "\n",
      " [[-7.53676597e-01 -5.23534557e+00  5.05961648e+00]\n",
      "  [-2.25269100e+01  2.26138423e-01  4.53194947e+00]\n",
      "  [-4.78899602e+01 -6.51518839e+00  6.48869506e-01]]\n",
      "\n",
      " [[ 3.08384943e-01  2.84538732e+00  3.41933321e+00]\n",
      "  [ 8.94690082e+00  1.69325465e+01  3.48191186e-02]\n",
      "  [ 1.21325794e+01 -6.07711087e+00 -1.73188411e+00]]]\n"
     ]
    }
   ],
   "source": [
    "print(c)"
   ]
  },
  {
   "cell_type": "code",
   "execution_count": 14,
   "metadata": {},
   "outputs": [],
   "source": [
    "from Errors import Error_functions\n",
    "from Layers import Activation\n",
    "\n",
    "L = Activation('sigmoid')\n",
    "y = L._forward(y)\n",
    "d = L._forward(d)"
   ]
  },
  {
   "cell_type": "code",
   "execution_count": 15,
   "metadata": {},
   "outputs": [
    {
     "data": {
      "text/plain": [
       "array([[[-0.67061343, -0.27349848, -0.29286025],\n",
       "        [-0.16777855, -0.17875947, -0.23185891],\n",
       "        [-0.18614487, -0.14605692, -0.12369256]],\n",
       "\n",
       "       [[-0.32065155, -0.36131718, -0.15575924],\n",
       "        [-0.18685194, -0.19151604, -0.17346657],\n",
       "        [-0.23700734, -0.22333815, -0.15931438]],\n",
       "\n",
       "       [[-0.17790478, -0.16337983, -0.17114075],\n",
       "        [-0.17134497, -0.2994219 , -0.20380425],\n",
       "        [-0.43997289, -0.17500802, -0.14283856]],\n",
       "\n",
       "       [[-0.0909321 , -0.23755954, -0.17717851],\n",
       "        [-0.22266375, -0.1523317 , -0.17240857],\n",
       "        [-0.2201784 , -0.21154052, -0.18422973]]])"
      ]
     },
     "execution_count": 15,
     "metadata": {},
     "output_type": "execute_result"
    }
   ],
   "source": [
    "def binary_entropy_loss(calc, actual):\n",
    "    return 1/calc.shape[0]*((actual * np.log(calc)) + ((1-actual)*np.log(1-calc)))\n",
    "\n",
    "binary_entropy_loss(y,d)"
   ]
  },
  {
   "cell_type": "code",
   "execution_count": 3,
   "metadata": {},
   "outputs": [
    {
     "name": "stdout",
     "output_type": "stream",
     "text": [
      "[[[ 0.  0.  0.]\n",
      "  [-0.  0. -0.]\n",
      "  [-0. -0. -0.]]\n",
      "\n",
      " [[-0. -0.  0.]\n",
      "  [-0.  0. -0.]\n",
      "  [ 0.  0. -0.]]\n",
      "\n",
      " [[ 0.  0. -0.]\n",
      "  [-0. -0.  0.]\n",
      "  [ 0.  0.  0.]]\n",
      "\n",
      " [[ 0.  0. -0.]\n",
      "  [-0.  0.  0.]\n",
      "  [ 0.  0. -0.]]]\n"
     ]
    }
   ],
   "source": [
    "from Regularisers import Regularisation\n",
    "\n",
    "k = Regularisation.l2()\n",
    "print(k(y))"
   ]
  }
 ],
 "metadata": {
  "interpreter": {
   "hash": "74819ddab8d7f9eb284b0c0db3f4d337d2dd6dbb2b5fb74eb0c428e4d5faaecc"
  },
  "kernelspec": {
   "display_name": "Python 3.9.0 64-bit",
   "language": "python",
   "name": "python3"
  },
  "language_info": {
   "codemirror_mode": {
    "name": "ipython",
    "version": 3
   },
   "file_extension": ".py",
   "mimetype": "text/x-python",
   "name": "python",
   "nbconvert_exporter": "python",
   "pygments_lexer": "ipython3",
   "version": "3.9.0"
  },
  "orig_nbformat": 4
 },
 "nbformat": 4,
 "nbformat_minor": 2
}
