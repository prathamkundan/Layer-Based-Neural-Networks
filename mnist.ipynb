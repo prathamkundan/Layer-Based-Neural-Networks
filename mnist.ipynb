{
 "cells": [
  {
   "cell_type": "code",
   "execution_count": 1,
   "metadata": {},
   "outputs": [
    {
     "name": "stdout",
     "output_type": "stream",
     "text": [
      "(60000, 784)\n"
     ]
    },
    {
     "name": "stderr",
     "output_type": "stream",
     "text": [
      "Epoch 200 of 200\tError:-347.464"
     ]
    }
   ],
   "source": [
    "import numpy as np\n",
    "from Layers import *\n",
    "from Modelling import *\n",
    "import os\n",
    "import struct\n",
    "\n",
    "def _onehot(y, n_classes):\n",
    "        onehot = np.zeros((y.shape[0],n_classes))\n",
    "        for idx, val in enumerate(y.astype(int)):\n",
    "            onehot[idx][val] = 1\n",
    "        return onehot\n",
    "\n",
    "\n",
    "def load_mnist(path, kind ='train'):\n",
    "    labels_path = os.path.join(path,\"%s-labels.idx1-ubyte\" %kind)\n",
    "    images_path = os.path.join(path,\"%s-images.idx3-ubyte\" %kind)\n",
    "\n",
    "    with open(labels_path,'rb') as lb_path:\n",
    "        magic,n = struct.unpack(\">II\",lb_path.read(8)) # >(Big Endian) integer, integer \n",
    "        labels = np.fromfile(lb_path, dtype=np.uint8)\n",
    "    \n",
    "    with open(images_path,'rb') as im_path:\n",
    "        magic, num, rows, cols = struct.unpack(\">IIII\",im_path.read(16))\n",
    "        images  = np.fromfile(im_path,dtype=np.uint8).reshape(len(labels),784)\n",
    "        images = ((images/255.0) - 0.5)*2\n",
    "\n",
    "    return images, labels\n",
    "\n",
    "X_train, y_train = load_mnist(\"C:\\\\Users\\\\Pratham Kundan\\\\Desktop\\\\Directory\\\\Python\\\\Machine Learning\\\\Neural Network Library\\\\Data\", kind = 'train')\n",
    "\n",
    "y_train_enc = _onehot(y_train, np.unique(y_train).shape[0])\n",
    "\n",
    "print(X_train.shape)\n",
    "\n",
    "network = [\n",
    "    Layer(n_x=784, n_y = 100, eta=0.01),\n",
    "    Activation(function = 'sigmoid'),\n",
    "    Layer(n_x = 100, n_y = 10, eta=0.01),\n",
    "    Activation(function = 'sigmoid')\n",
    "]\n",
    "\n",
    "err = fit(model = network, X_train= X_train,Y_train= y_train_enc, epochs=200, batch_size= 100, error_fun='bel')\n",
    "\n"
   ]
  },
  {
   "cell_type": "code",
   "execution_count": 2,
   "metadata": {},
   "outputs": [
    {
     "name": "stdout",
     "output_type": "stream",
     "text": [
      "Predicted: 5 \tactual: 5\n",
      "Predicted: 0 \tactual: 0\n",
      "Predicted: 4 \tactual: 4\n",
      "Predicted: 1 \tactual: 1\n",
      "Predicted: 9 \tactual: 9\n",
      "Predicted: 2 \tactual: 2\n",
      "Predicted: 1 \tactual: 1\n",
      "Predicted: 3 \tactual: 3\n",
      "Predicted: 1 \tactual: 1\n",
      "Predicted: 4 \tactual: 4\n",
      "Accuracy: 91.57%\n"
     ]
    }
   ],
   "source": [
    "\n",
    "ans = 0\n",
    "for i in range(X_train.shape[0]):\n",
    "    z = predict(model=network, X = [X_train[i]])\n",
    "    pred = np.argmax(y_train_enc[i])\n",
    "    if (np.argmax(z) == pred): ans+=1\n",
    "    if (i<10): print(\"Predicted:\",np.argmax(z),\"\\tactual:\",pred)\n",
    "print(\"Accuracy: %.2f%%\" %(ans/X_train.shape[0]*100))"
   ]
  },
  {
   "cell_type": "code",
   "execution_count": 6,
   "metadata": {},
   "outputs": [
    {
     "name": "stdout",
     "output_type": "stream",
     "text": [
      "Predicted: 7 \tactual: 7\n",
      "Predicted: 2 \tactual: 2\n",
      "Predicted: 1 \tactual: 1\n",
      "Predicted: 0 \tactual: 0\n",
      "Predicted: 4 \tactual: 4\n",
      "Predicted: 1 \tactual: 1\n",
      "Predicted: 4 \tactual: 4\n",
      "Predicted: 9 \tactual: 9\n",
      "Predicted: 6 \tactual: 5\n",
      "Predicted: 9 \tactual: 9\n",
      "Accuracy: 90.89%\n"
     ]
    }
   ],
   "source": [
    "X_test, y_test = load_mnist(\"C:\\\\Users\\\\Pratham Kundan\\\\Desktop\\\\Directory\\\\Python\\\\Machine Learning\\\\Neural Network Library\\\\Data\", kind = 't10k')\n",
    "y_test_enc = _onehot(y_test, np.unique(y_test).shape[0])\n",
    "ans = 0\n",
    "for i in range(X_test.shape[0]):\n",
    "    z = predict(model=network, X = [X_test[i]])\n",
    "    pred = np.argmax(y_test_enc[i])\n",
    "    if (np.argmax(z) == pred): ans+=1\n",
    "    if (i<10): print(\"Predicted:\",np.argmax(z),\"\\tactual:\",pred)\n",
    "print(\"Accuracy: %.2f%%\" %(ans/X_test.shape[0]*100))"
   ]
  },
  {
   "cell_type": "code",
   "execution_count": null,
   "metadata": {},
   "outputs": [],
   "source": [
    "# :) Not bad"
   ]
  },
  {
   "cell_type": "code",
   "execution_count": 1,
   "metadata": {},
   "outputs": [
    {
     "name": "stdout",
     "output_type": "stream",
     "text": [
      "(60000, 28, 28)\n"
     ]
    }
   ],
   "source": [
    "import numpy as np\n",
    "from Layers import *\n",
    "from Modelling import *\n",
    "import os\n",
    "import struct\n",
    "\n",
    "def _onehot(y, n_classes):\n",
    "        onehot = np.zeros((y.shape[0],n_classes))\n",
    "        for idx, val in enumerate(y.astype(int)):\n",
    "            onehot[idx][val] = 1\n",
    "        return onehot\n",
    "\n",
    "\n",
    "def load_mnist(path, kind ='train'):\n",
    "    labels_path = os.path.join(path,\"%s-labels.idx1-ubyte\" %kind)\n",
    "    images_path = os.path.join(path,\"%s-images.idx3-ubyte\" %kind)\n",
    "\n",
    "    with open(labels_path,'rb') as lb_path:\n",
    "        magic,n = struct.unpack(\">II\",lb_path.read(8)) # >(Big Endian) integer, integer \n",
    "        labels = np.fromfile(lb_path, dtype=np.uint8)\n",
    "    \n",
    "    with open(images_path,'rb') as im_path:\n",
    "        magic, num, rows, cols = struct.unpack(\">IIII\",im_path.read(16))\n",
    "        images  = np.fromfile(im_path,dtype=np.uint8).reshape(len(labels),28,28)\n",
    "        images = ((images/255.0) - 0.5)*2\n",
    "\n",
    "    return images, labels\n",
    "\n",
    "X_train, y_train = load_mnist(\"C:\\\\Users\\\\Pratham Kundan\\\\Desktop\\\\Directory\\\\Python\\\\Machine Learning\\\\Neural Network Library\\\\Data\", kind = 'train')\n",
    "y_train_enc = _onehot(y_train, np.unique(y_train).shape[0])\n",
    "print(X_train.shape)"
   ]
  },
  {
   "cell_type": "code",
   "execution_count": 2,
   "metadata": {},
   "outputs": [
    {
     "data": {
      "image/png": "[encoded data removed]",
      "text/plain": [
       "<Figure size 432x288 with 25 Axes>"
      ]
     },
     "metadata": {},
     "output_type": "display_data"
    }
   ],
   "source": [
    "import matplotlib.pyplot as plt\n",
    "\n",
    "fig, ax = plt.subplots(nrows=5, ncols=5, sharex = True, sharey= True)\n",
    "ax = ax.flatten()\n",
    "\n",
    "for i in range(25):\n",
    "    img = X_train[i]\n",
    "    ax[i].imshow(img, cmap = \"Greys\")\n",
    "\n",
    "plt.xticks([])\n",
    "plt.yticks([])\n",
    "plt.tight_layout()\n",
    "plt.show()"
   ]
  },
  {
   "cell_type": "code",
   "execution_count": null,
   "metadata": {},
   "outputs": [],
   "source": [
    "nn = [\n",
    "    Convolutional((1,28,28),(3,3),5),\n",
    "    Activation('sigmoid'),\n",
    "    Reshape((5,26,26), (1,(5*26*26))),\n",
    "    Layer(5*26*26, 100),\n",
    "    Activation('sigmoid'),\n",
    "    Layer(100,10),\n",
    "    Activation('sigmoid')\n",
    "]\n",
    "\n",
    "errors = fit(nn, X_train ,y_train_enc ,epochs = 20 , shuffle= False ,error_fun='bel', batch_size=1)"
   ]
  },
  {
   "cell_type": "code",
   "execution_count": 9,
   "metadata": {},
   "outputs": [
    {
     "name": "stdout",
     "output_type": "stream",
     "text": [
      "Predicted: 8 \tactual: 5\n",
      "Predicted: 0 \tactual: 0\n",
      "Predicted: 4 \tactual: 4\n",
      "Predicted: 2 \tactual: 1\n",
      "Predicted: 4 \tactual: 9\n",
      "Predicted: 2 \tactual: 2\n",
      "Predicted: 2 \tactual: 1\n",
      "Predicted: 8 \tactual: 3\n",
      "Predicted: 2 \tactual: 1\n",
      "Predicted: 7 \tactual: 4\n",
      "Accuracy: 40.56%\n"
     ]
    }
   ],
   "source": [
    "ans = 0\n",
    "for i in range(X_train.shape[0]):\n",
    "    z = predict(model=nn, X = [X_train[i]])\n",
    "    pred = np.argmax(y_train_enc[i])\n",
    "    if (np.argmax(z) == pred): ans+=1\n",
    "    if (i<10): print(\"Predicted:\",np.argmax(z),\"\\tactual:\",pred)\n",
    "print(\"Accuracy: %.2f%%\" %(ans/X_train.shape[0]*100))"
   ]
  }
 ],
 "metadata": {
  "interpreter": {
   "hash": "74819ddab8d7f9eb284b0c0db3f4d337d2dd6dbb2b5fb74eb0c428e4d5faaecc"
  },
  "kernelspec": {
   "display_name": "Python 3.9.0 64-bit",
   "language": "python",
   "name": "python3"
  },
  "language_info": {
   "codemirror_mode": {
    "name": "ipython",
    "version": 3
   },
   "file_extension": ".py",
   "mimetype": "text/x-python",
   "name": "python",
   "nbconvert_exporter": "python",
   "pygments_lexer": "ipython3",
   "version": "3.9.0"
  },
  "orig_nbformat": 4
 },
 "nbformat": 4,
 "nbformat_minor": 2
}
