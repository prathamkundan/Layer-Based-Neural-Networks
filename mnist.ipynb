{
 "cells": [
  {
   "cell_type": "code",
   "execution_count": 1,
   "metadata": {},
   "outputs": [
    {
     "name": "stdout",
     "output_type": "stream",
     "text": [
      "(60000, 784)\n"
     ]
    },
    {
     "name": "stderr",
     "output_type": "stream",
     "text": [
      "Epoch 100 of 100\tError:1845.19"
     ]
    }
   ],
   "source": [
    "import numpy as np\n",
    "from Layers import *\n",
    "from Modelling import *\n",
    "import os\n",
    "import struct\n",
    "\n",
    "def _onehot(y, n_classes):\n",
    "        onehot = np.zeros((y.shape[0],n_classes))\n",
    "        for idx, val in enumerate(y.astype(int)):\n",
    "            onehot[idx][val] = 1\n",
    "        return onehot\n",
    "\n",
    "\n",
    "def load_mnist(path, kind ='train'):\n",
    "    labels_path = os.path.join(path,\"%s-labels.idx1-ubyte\" %kind)\n",
    "    images_path = os.path.join(path,\"%s-images.idx3-ubyte\" %kind)\n",
    "\n",
    "    with open(labels_path,'rb') as lb_path:\n",
    "        magic,n = struct.unpack(\">II\",lb_path.read(8)) # >(Big Endian) integer, integer \n",
    "        labels = np.fromfile(lb_path, dtype=np.uint8)\n",
    "    \n",
    "    with open(images_path,'rb') as im_path:\n",
    "        magic, num, rows, cols = struct.unpack(\">IIII\",im_path.read(16))\n",
    "        images  = np.fromfile(im_path,dtype=np.uint8).reshape(len(labels),784)\n",
    "        images = ((images/255.0) - 0.5)*2\n",
    "\n",
    "    return images, labels\n",
    "\n",
    "X_train, y_train = load_mnist(\"C:\\\\Users\\\\Pratham Kundan\\\\Desktop\\\\Directory\\\\Python\\\\Machine Learning\\\\Neural Network Library\\\\Data\", kind = 'train')\n",
    "y_train_enc = _onehot(y_train, np.unique(y_train).shape[0])\n",
    "print(X_train.shape)\n",
    "\n",
    "network = [\n",
    "    Layer(n_x=784, n_y = 100, eta=0.01),\n",
    "    Activation(a_function = 'sigmoid'),\n",
    "    Layer(n_x = 100, n_y = 10, eta=0.01),\n",
    "    Activation(a_function = 'sigmoid')\n",
    "]\n",
    "\n",
    "err = fit(model = network, X_train= X_train,Y_train= y_train_enc, epochs=100, batch_size= 100)\n",
    "\n"
   ]
  },
  {
   "cell_type": "code",
   "execution_count": 5,
   "metadata": {},
   "outputs": [
    {
     "name": "stdout",
     "output_type": "stream",
     "text": [
      "Predicted: 5 \tactual: 5\n",
      "Predicted: 0 \tactual: 0\n",
      "Predicted: 4 \tactual: 4\n",
      "Predicted: 1 \tactual: 1\n",
      "Predicted: 4 \tactual: 9\n",
      "Predicted: 2 \tactual: 2\n",
      "Predicted: 1 \tactual: 1\n",
      "Predicted: 3 \tactual: 3\n",
      "Predicted: 1 \tactual: 1\n",
      "Predicted: 4 \tactual: 4\n",
      "Accuracy: 74.46%\n"
     ]
    }
   ],
   "source": [
    "ans = 0\n",
    "for i in range(X_train.shape[0]):\n",
    "    z = predict(model=network, X = [X_train[i]])\n",
    "    pred = np.argmax(y_train_enc[i])\n",
    "    if (np.argmax(z) == pred): ans+=1\n",
    "    if (i<10): print(\"Predicted:\",np.argmax(z),\"\\tactual:\",pred)\n",
    "print(\"Accuracy: %.2f%%\" %(ans/X_train.shape[0]*100))"
   ]
  },
  {
   "cell_type": "code",
   "execution_count": null,
   "metadata": {},
   "outputs": [],
   "source": [
    "# :/"
   ]
  }
 ],
 "metadata": {
  "interpreter": {
   "hash": "74819ddab8d7f9eb284b0c0db3f4d337d2dd6dbb2b5fb74eb0c428e4d5faaecc"
  },
  "kernelspec": {
   "display_name": "Python 3.9.0 64-bit",
   "language": "python",
   "name": "python3"
  },
  "language_info": {
   "codemirror_mode": {
    "name": "ipython",
    "version": 3
   },
   "file_extension": ".py",
   "mimetype": "text/x-python",
   "name": "python",
   "nbconvert_exporter": "python",
   "pygments_lexer": "ipython3",
   "version": "3.9.0"
  },
  "orig_nbformat": 4
 },
 "nbformat": 4,
 "nbformat_minor": 2
}
