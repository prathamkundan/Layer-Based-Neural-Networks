{
 "cells": [
  {
   "cell_type": "code",
   "execution_count": 3,
   "metadata": {},
   "outputs": [
    {
     "name": "stdout",
     "output_type": "stream",
     "text": [
      "(60000, 784)\n"
     ]
    },
    {
     "ename": "ValueError",
     "evalue": "shapes (10,) and (100,) not aligned: 10 (dim 0) != 100 (dim 0)",
     "output_type": "error",
     "traceback": [
      "\u001b[1;31m---------------------------------------------------------------------------\u001b[0m",
      "\u001b[1;31mValueError\u001b[0m                                Traceback (most recent call last)",
      "\u001b[1;32m<ipython-input-3-48e891398f44>\u001b[0m in \u001b[0;36m<module>\u001b[1;34m\u001b[0m\n\u001b[0;32m     42\u001b[0m \u001b[1;33m\u001b[0m\u001b[0m\n\u001b[0;32m     43\u001b[0m \u001b[1;31m# train\u001b[0m\u001b[1;33m\u001b[0m\u001b[1;33m\u001b[0m\u001b[1;33m\u001b[0m\u001b[0m\n\u001b[1;32m---> 44\u001b[1;33m \u001b[0merr\u001b[0m \u001b[1;33m=\u001b[0m \u001b[0mfit\u001b[0m\u001b[1;33m(\u001b[0m\u001b[0mmodel\u001b[0m \u001b[1;33m=\u001b[0m \u001b[0mnetwork\u001b[0m\u001b[1;33m,\u001b[0m\u001b[0mX_train\u001b[0m\u001b[1;33m=\u001b[0m \u001b[0mX_train\u001b[0m\u001b[1;33m,\u001b[0m\u001b[0mY_train\u001b[0m\u001b[1;33m=\u001b[0m \u001b[0my_train_enc\u001b[0m\u001b[1;33m,\u001b[0m \u001b[0mepochs\u001b[0m\u001b[1;33m=\u001b[0m\u001b[1;36m10\u001b[0m\u001b[1;33m)\u001b[0m\u001b[1;33m\u001b[0m\u001b[1;33m\u001b[0m\u001b[0m\n\u001b[0m\u001b[0;32m     45\u001b[0m \u001b[1;31m# print(err)\u001b[0m\u001b[1;33m\u001b[0m\u001b[1;33m\u001b[0m\u001b[1;33m\u001b[0m\u001b[0m\n\u001b[0;32m     46\u001b[0m \u001b[1;33m\u001b[0m\u001b[0m\n",
      "\u001b[1;32mc:\\Users\\Pratham Kundan\\Desktop\\Directory\\Python\\Machine Learning\\Neural Network Library\\post_cont.py\u001b[0m in \u001b[0;36mfit\u001b[1;34m(model, X_train, Y_train, epochs)\u001b[0m\n\u001b[0;32m     19\u001b[0m             \u001b[0mgrad_y\u001b[0m \u001b[1;33m=\u001b[0m \u001b[0mgrad_error\u001b[0m\u001b[1;33m\u001b[0m\u001b[1;33m\u001b[0m\u001b[0m\n\u001b[0;32m     20\u001b[0m             \u001b[1;32mfor\u001b[0m \u001b[0mlayer\u001b[0m \u001b[1;32min\u001b[0m \u001b[0mreversed\u001b[0m\u001b[1;33m(\u001b[0m\u001b[0mmodel\u001b[0m\u001b[1;33m)\u001b[0m\u001b[1;33m:\u001b[0m\u001b[1;33m\u001b[0m\u001b[1;33m\u001b[0m\u001b[0m\n\u001b[1;32m---> 21\u001b[1;33m                 \u001b[0mgrad_y\u001b[0m \u001b[1;33m=\u001b[0m \u001b[0mlayer\u001b[0m\u001b[1;33m.\u001b[0m\u001b[0m_backward\u001b[0m\u001b[1;33m(\u001b[0m\u001b[0mgrad_y\u001b[0m\u001b[1;33m)\u001b[0m\u001b[1;33m\u001b[0m\u001b[1;33m\u001b[0m\u001b[0m\n\u001b[0m\u001b[0;32m     22\u001b[0m \u001b[1;33m\u001b[0m\u001b[0m\n\u001b[0;32m     23\u001b[0m         \u001b[0merror_over_epoch\u001b[0m\u001b[1;33m.\u001b[0m\u001b[0mextend\u001b[0m\u001b[1;33m(\u001b[0m\u001b[0merror\u001b[0m\u001b[1;33m)\u001b[0m\u001b[1;33m\u001b[0m\u001b[1;33m\u001b[0m\u001b[0m\n",
      "\u001b[1;32mc:\\Users\\Pratham Kundan\\Desktop\\Directory\\Python\\Machine Learning\\Neural Network Library\\Layers.py\u001b[0m in \u001b[0;36m_backward\u001b[1;34m(self, grad_EY)\u001b[0m\n\u001b[0;32m     19\u001b[0m     \u001b[1;32mdef\u001b[0m \u001b[0m_backward\u001b[0m\u001b[1;33m(\u001b[0m\u001b[0mself\u001b[0m\u001b[1;33m,\u001b[0m \u001b[0mgrad_EY\u001b[0m\u001b[1;33m)\u001b[0m\u001b[1;33m:\u001b[0m\u001b[1;33m\u001b[0m\u001b[1;33m\u001b[0m\u001b[0m\n\u001b[0;32m     20\u001b[0m         \u001b[0mgrad_EX\u001b[0m \u001b[1;33m=\u001b[0m \u001b[0mnp\u001b[0m\u001b[1;33m.\u001b[0m\u001b[0mdot\u001b[0m\u001b[1;33m(\u001b[0m\u001b[0mself\u001b[0m\u001b[1;33m.\u001b[0m\u001b[0mW\u001b[0m\u001b[1;33m.\u001b[0m\u001b[0mT\u001b[0m\u001b[1;33m,\u001b[0m \u001b[0mgrad_EY\u001b[0m\u001b[1;33m)\u001b[0m\u001b[1;33m\u001b[0m\u001b[1;33m\u001b[0m\u001b[0m\n\u001b[1;32m---> 21\u001b[1;33m         \u001b[0mdelta_W\u001b[0m \u001b[1;33m=\u001b[0m \u001b[0mnp\u001b[0m\u001b[1;33m.\u001b[0m\u001b[0mdot\u001b[0m\u001b[1;33m(\u001b[0m\u001b[0mgrad_EY\u001b[0m\u001b[1;33m,\u001b[0m \u001b[0mself\u001b[0m\u001b[1;33m.\u001b[0m\u001b[0mX_in\u001b[0m\u001b[1;33m.\u001b[0m\u001b[0mT\u001b[0m\u001b[1;33m)\u001b[0m\u001b[1;33m\u001b[0m\u001b[1;33m\u001b[0m\u001b[0m\n\u001b[0m\u001b[0;32m     22\u001b[0m         \u001b[0mself\u001b[0m\u001b[1;33m.\u001b[0m\u001b[0mW\u001b[0m \u001b[1;33m-=\u001b[0m \u001b[0mself\u001b[0m\u001b[1;33m.\u001b[0m\u001b[0meta\u001b[0m \u001b[1;33m*\u001b[0m \u001b[0mdelta_W\u001b[0m\u001b[1;33m\u001b[0m\u001b[1;33m\u001b[0m\u001b[0m\n\u001b[0;32m     23\u001b[0m         \u001b[0mdelta_B\u001b[0m \u001b[1;33m=\u001b[0m \u001b[0mnp\u001b[0m\u001b[1;33m.\u001b[0m\u001b[0msum\u001b[0m\u001b[1;33m(\u001b[0m\u001b[0mgrad_EY\u001b[0m\u001b[1;33m,\u001b[0m \u001b[0maxis\u001b[0m\u001b[1;33m=\u001b[0m\u001b[1;36m1\u001b[0m\u001b[1;33m)\u001b[0m\u001b[1;33m\u001b[0m\u001b[1;33m\u001b[0m\u001b[0m\n",
      "\u001b[1;32m<__array_function__ internals>\u001b[0m in \u001b[0;36mdot\u001b[1;34m(*args, **kwargs)\u001b[0m\n",
      "\u001b[1;31mValueError\u001b[0m: shapes (10,) and (100,) not aligned: 10 (dim 0) != 100 (dim 0)"
     ]
    }
   ],
   "source": [
    "import numpy as np\n",
    "from Layers import *\n",
    "from post_cont import *\n",
    "import matplotlib.pyplot as plt\n",
    "from mpl_toolkits.mplot3d import Axes3D\n",
    "import os\n",
    "import struct\n",
    "\n",
    "def _onehot(y, n_classes):\n",
    "        onehot = np.zeros((y.shape[0],n_classes))\n",
    "        for idx, val in enumerate(y.astype(int)):\n",
    "            onehot[idx][val] = 1\n",
    "        return onehot\n",
    "\n",
    "\n",
    "def load_mnist(path, kind ='train'):\n",
    "    labels_path = os.path.join(path,\"%s-labels.idx1-ubyte\" %kind)\n",
    "    images_path = os.path.join(path,\"%s-images.idx3-ubyte\" %kind)\n",
    "\n",
    "    with open(labels_path,'rb') as lb_path:\n",
    "        magic,n = struct.unpack(\">II\",lb_path.read(8)) # >(Big Endian) integer, integer \n",
    "        labels = np.fromfile(lb_path, dtype=np.uint8)\n",
    "    \n",
    "    with open(images_path,'rb') as im_path:\n",
    "        magic, num, rows, cols = struct.unpack(\">IIII\",im_path.read(16))\n",
    "        images  = np.fromfile(im_path,dtype=np.uint8).reshape(len(labels),784)\n",
    "        images = ((images/255.0) - 0.5)*2\n",
    "\n",
    "    return images, labels\n",
    "\n",
    "X_train, y_train = load_mnist('Data', kind = 'train')\n",
    "y_train_enc = _onehot(y_train, np.unique(y_train).shape[0])\n",
    "\n",
    "print(X_train.shape)\n",
    "\n",
    "network = [\n",
    "    Layer(n_x=784, n_y = 100, eta=0.001),\n",
    "    Activation(a_function = 'relu'),\n",
    "    Layer(n_x = 100, n_y = 10, eta=0.001),\n",
    "    Activation(a_function = 'relu')\n",
    "]\n",
    "\n",
    "# train\n",
    "err = fit(model = network, X_train= X_train,Y_train= y_train_enc, epochs=10)\n",
    "# print(err)\n",
    "\n",
    "\n",
    "\n",
    "# fig = plt.figure()\n",
    "# ax = fig.add_subplot(111)\n",
    "# ax.scatter(points[:, 0], points[:, 1], points[:, 2], c=points[:, 2], cmap=\"winter\")\n",
    "# ax.scatter(X[:,0],X[:,1],Y[:],color = 'r')\n",
    "plt.show()\n"
   ]
  },
  {
   "cell_type": "code",
   "execution_count": 3,
   "metadata": {},
   "outputs": [
    {
     "name": "stdout",
     "output_type": "stream",
     "text": [
      "(100,) (10,)\n"
     ]
    },
    {
     "ename": "ValueError",
     "evalue": "shapes (100,) and (10,) not aligned: 100 (dim 0) != 10 (dim 0)",
     "output_type": "error",
     "traceback": [
      "\u001b[1;31m---------------------------------------------------------------------------\u001b[0m",
      "\u001b[1;31mValueError\u001b[0m                                Traceback (most recent call last)",
      "\u001b[1;32m<ipython-input-3-c2ea59fa1977>\u001b[0m in \u001b[0;36m<module>\u001b[1;34m\u001b[0m\n\u001b[0;32m     29\u001b[0m        9.69426533e-01, 8.42614739e-02, 2.05109298e-09, 3.74859734e-05])\n\u001b[0;32m     30\u001b[0m \u001b[0mprint\u001b[0m\u001b[1;33m(\u001b[0m\u001b[0mX\u001b[0m\u001b[1;33m.\u001b[0m\u001b[0mshape\u001b[0m\u001b[1;33m,\u001b[0m\u001b[0my\u001b[0m\u001b[1;33m.\u001b[0m\u001b[0mshape\u001b[0m\u001b[1;33m)\u001b[0m\u001b[1;33m\u001b[0m\u001b[1;33m\u001b[0m\u001b[0m\n\u001b[1;32m---> 31\u001b[1;33m \u001b[0mnp\u001b[0m\u001b[1;33m.\u001b[0m\u001b[0mdot\u001b[0m\u001b[1;33m(\u001b[0m\u001b[0mX\u001b[0m\u001b[1;33m,\u001b[0m\u001b[0my\u001b[0m\u001b[1;33m.\u001b[0m\u001b[0mT\u001b[0m\u001b[1;33m)\u001b[0m\u001b[1;33m\u001b[0m\u001b[1;33m\u001b[0m\u001b[0m\n\u001b[0m",
      "\u001b[1;32m<__array_function__ internals>\u001b[0m in \u001b[0;36mdot\u001b[1;34m(*args, **kwargs)\u001b[0m\n",
      "\u001b[1;31mValueError\u001b[0m: shapes (100,) and (10,) not aligned: 100 (dim 0) != 10 (dim 0)"
     ]
    }
   ],
   "source": [
    "import numpy as np\n",
    "y = np.array([ 1.71118566e-03,  6.41767755e-07,  1.42716154e-04,  1.33086562e-07,\n",
    "        4.92472342e-02, -2.79685270e-02,  4.93949493e-02,  7.22903117e-04,\n",
    "        7.69485243e-03,  3.42777624e-02])\n",
    "X = np.array([1.00000000e+00, 1.00000000e+00, 9.25980956e-01, 1.00000000e+00,\n",
    "       9.74270545e-01, 1.37725191e-08, 3.22793014e-07, 9.99991737e-01,\n",
    "       2.29781782e-06, 2.67185763e-06, 9.99999962e-01, 1.00000000e+00,\n",
    "       1.00000000e+00, 2.08897538e-15, 3.20245967e-06, 2.09012806e-09,\n",
    "       1.60387013e-02, 9.99999902e-01, 9.95687014e-01, 1.00000000e+00,\n",
    "       2.55775525e-11, 6.08038108e-19, 9.99999982e-01, 5.16331526e-01,\n",
    "       1.00000000e+00, 9.99839020e-01, 1.00000000e+00, 1.00000000e+00,\n",
    "       1.11318846e-01, 9.89268240e-01, 1.00000000e+00, 9.99999686e-01,\n",
    "       7.56623785e-22, 6.92858082e-14, 1.03326880e-13, 1.00000000e+00,\n",
    "       8.95706883e-18, 4.20184547e-06, 9.99999848e-01, 3.51853375e-09,\n",
    "       9.99908984e-01, 1.11406743e-15, 5.39461680e-14, 1.83089393e-07,\n",
    "       1.00000000e+00, 9.42153553e-15, 1.00000000e+00, 6.86691892e-20,\n",
    "       9.99421340e-01, 5.03922568e-05, 1.00000000e+00, 1.84798937e-11,\n",
    "       9.99999728e-01, 1.00000000e+00, 3.06603562e-07, 8.06224499e-01,\n",
    "       2.06093892e-01, 1.42450646e-05, 9.99999998e-01, 1.00000000e+00,\n",
    "       5.54250464e-05, 2.42217946e-01, 9.82119109e-01, 9.82026202e-14,\n",
    "       2.45355359e-06, 9.99999990e-01, 3.80159309e-11, 9.99682095e-01,\n",
    "       9.99999995e-01, 1.00000000e+00, 9.99965832e-01, 9.25580010e-09,\n",
    "       9.99999996e-01, 6.56082796e-07, 1.00000000e+00, 3.17228250e-08,\n",
    "       1.42216342e-21, 9.66659288e-14, 9.99812158e-01, 1.84845884e-04,\n",
    "       9.99997390e-01, 6.53054683e-11, 5.02697371e-04, 4.43480378e-04,\n",
    "       7.55009189e-01, 1.51885385e-01, 3.95937839e-16, 1.00000000e+00,\n",
    "       1.00000000e+00, 1.00000000e+00, 2.74100253e-24, 7.91437260e-01,\n",
    "       4.28719787e-04, 1.91391435e-07, 1.42701339e-06, 4.14226513e-24,\n",
    "       9.69426533e-01, 8.42614739e-02, 2.05109298e-09, 3.74859734e-05])\n",
    "X = X.reshape(784)"
   ]
  },
  {
   "cell_type": "code",
   "execution_count": 5,
   "metadata": {},
   "outputs": [
    {
     "name": "stdout",
     "output_type": "stream",
     "text": [
      "[[[2]]\n",
      "\n",
      " [[4]]\n",
      "\n",
      " [[5]]\n",
      "\n",
      " [[9]]]\n",
      "\n",
      "[[[  8]]\n",
      "\n",
      " [[ 64]]\n",
      "\n",
      " [[125]]\n",
      "\n",
      " [[729]]]\n"
     ]
    }
   ],
   "source": [
    "X = np.reshape([[2], [4], [5], [9]], (4, 1, 1))\n",
    "Y = np.reshape([[8], [64], [125], [729]], (4, 1, 1))\n",
    "print(X)\n",
    "print()\n",
    "print(Y)"
   ]
  },
  {
   "cell_type": "code",
   "execution_count": null,
   "metadata": {},
   "outputs": [],
   "source": []
  }
 ],
 "metadata": {
  "interpreter": {
   "hash": "74819ddab8d7f9eb284b0c0db3f4d337d2dd6dbb2b5fb74eb0c428e4d5faaecc"
  },
  "kernelspec": {
   "display_name": "Python 3.9.0 64-bit",
   "language": "python",
   "name": "python3"
  },
  "language_info": {
   "codemirror_mode": {
    "name": "ipython",
    "version": 3
   },
   "file_extension": ".py",
   "mimetype": "text/x-python",
   "name": "python",
   "nbconvert_exporter": "python",
   "pygments_lexer": "ipython3",
   "version": "3.9.0"
  },
  "orig_nbformat": 4
 },
 "nbformat": 4,
 "nbformat_minor": 2
}
